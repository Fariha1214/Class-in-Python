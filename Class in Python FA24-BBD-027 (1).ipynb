{
 "cells": [
  {
   "cell_type": "code",
   "execution_count": 11,
   "id": "5922c16f",
   "metadata": {},
   "outputs": [
    {
     "name": "stdout",
     "output_type": "stream",
     "text": [
      "Fariha\n",
      "lahore\n"
     ]
    }
   ],
   "source": [
    "#Question:1\n",
    "class person:\n",
    "    def __init__(self,name,age,city):\n",
    "        self.name= \"Fariha\"\n",
    "        self.age= 18\n",
    "        self.city= \"lahore\"\n",
    "my_person = person(\"Fariha\",18,\"lahore\")\n",
    "print(my_person.name)\n",
    "print(my_person.city)"
   ]
  },
  {
   "cell_type": "code",
   "execution_count": 14,
   "id": "3d4305fb",
   "metadata": {},
   "outputs": [
    {
     "name": "stdout",
     "output_type": "stream",
     "text": [
      "Audi\n",
      "1994\n"
     ]
    }
   ],
   "source": [
    "#Question:2\n",
    "class car:\n",
    "    def __init__(self,make,model,year):\n",
    "        self.make = make\n",
    "        self.model = model\n",
    "        self.year = year\n",
    "my_car = car(\"Audi\",\"A4\",1994)\n",
    "print(my_car.make)\n",
    "print(my_car.year)"
   ]
  },
  {
   "cell_type": "code",
   "execution_count": 27,
   "id": "c8bd977b",
   "metadata": {},
   "outputs": [
    {
     "name": "stdout",
     "output_type": "stream",
     "text": [
      "Area: 12.566370614359172\n",
      "Circumference: 12.566370614359172\n"
     ]
    }
   ],
   "source": [
    "#Question:3\n",
    "import math\n",
    "class circle:\n",
    "    def __init__(self,radius):\n",
    "        self.radius = radius\n",
    "    def area(self):\n",
    "        return math.pi*(self.radius**2)\n",
    "    def circumference(self):\n",
    "        return 2*math.pi*(self.radius)\n",
    "my_circle = circle(2)\n",
    "print(\"Area:\",my_circle.area())\n",
    "print(\"Circumference:\",my_circle.circumference())"
   ]
  },
  {
   "cell_type": "code",
   "execution_count": 3,
   "id": "3d9f4597-43a9-453a-a9db-b8e1e50c36a2",
   "metadata": {},
   "outputs": [
    {
     "name": "stdout",
     "output_type": "stream",
     "text": [
      "the Area of rectangle is:48\n",
      "the Perimeter of rectangle is:28\n"
     ]
    }
   ],
   "source": [
    "#Question:4\n",
    "class rectangle:\n",
    "    def __init__(self,length,width):\n",
    "        self.length = length\n",
    "        self.width = width\n",
    "    def area(self):\n",
    "        area_value = self.length*self.width\n",
    "        print(f\"the Area of rectangle is:{area_value}\")\n",
    "    def perimeter(self):\n",
    "        perimeter_value = 2*(self.length+self.width)\n",
    "        print(f\"the Perimeter of rectangle is:{perimeter_value}\")\n",
    "my_rectangle = rectangle(6,8)\n",
    "my_rectangle.area()\n",
    "my_rectangle.perimeter()"
   ]
  },
  {
   "cell_type": "code",
   "execution_count": 9,
   "id": "ffafb978-042b-4238-9ab1-17e12d207fbf",
   "metadata": {},
   "outputs": [
    {
     "name": "stdout",
     "output_type": "stream",
     "text": [
      "The average marks of Fariha (Roll Number: 101) is: 86.25\n",
      "The average marks of Adeena (Roll Number: 102) is: 74.50\n"
     ]
    }
   ],
   "source": [
    "#Question:5\n",
    "class Student:\n",
    "    def __init__(self, name, roll_number, marks):\n",
    "        self.name = name\n",
    "        self.roll_number = roll_number\n",
    "        self.marks = marks\n",
    "    def average_marks(self):\n",
    "        if len(self.marks) == 0:\n",
    "            print(f\"{self.name} has no marks to calculate an average.\")\n",
    "            return\n",
    "        average_value = sum(self.marks) / len(self.marks)\n",
    "        print(f\"The average marks of {self.name} (Roll Number: {self.roll_number}) is: {average_value:.2f}\")\n",
    "student1 = Student(\"Fariha\", 101, [85, 90, 78, 92])\n",
    "student1.average_marks()\n",
    "student2 = Student(\"Adeena\", 102, [34,98,77,89])\n",
    "student2.average_marks() "
   ]
  },
  {
   "cell_type": "code",
   "execution_count": 23,
   "id": "2a60773e-abc7-4fe2-954e-5874796c29b2",
   "metadata": {},
   "outputs": [
    {
     "name": "stdout",
     "output_type": "stream",
     "text": [
      "The kite runner\n",
      "Khaled Hosseini\n",
      "2003\n"
     ]
    }
   ],
   "source": [
    "#Question:6\n",
    "class Book:\n",
    "    def __init__(self, title, author, publication_year):\n",
    "        self.title = title\n",
    "        self.author = author\n",
    "        self.publication_year = publication_year\n",
    "my_book = Book(\"The kite runner\", \"Khaled Hosseini\",2003)\n",
    "print(my_book.title)\n",
    "print(my_book.author)\n",
    "print(my_book.publication_year)"
   ]
  },
  {
   "cell_type": "code",
   "execution_count": 25,
   "id": "72f895a0-96eb-4bda-86b7-8ad99f5172e2",
   "metadata": {},
   "outputs": [
    {
     "name": "stdout",
     "output_type": "stream",
     "text": [
      "Name: Ahmed\n",
      "Salary: $75,000.00\n",
      "Designation: Software Engineer\n",
      "Name: Arooba\n",
      "Salary: $85,000.00\n",
      "Designation: Project Manager\n"
     ]
    }
   ],
   "source": [
    "#Question:7\n",
    "class Employee:\n",
    "    def __init__(self, name, salary, designation):\n",
    "        self.name = name\n",
    "        self.salary = salary\n",
    "        self.designation = designation\n",
    "    def display_employee_info(self):\n",
    "        print(f\"Name: {self.name}\")\n",
    "        print(f\"Salary: ${self.salary:,.2f}\")  \n",
    "        print(f\"Designation: {self.designation}\")\n",
    "employee1 = Employee(\"Ahmed\", 75000, \"Software Engineer\")\n",
    "employee1.display_employee_info()\n",
    "employee2 = Employee(\"Arooba\", 85000, \"Project Manager\")\n",
    "employee2.display_employee_info()"
   ]
  },
  {
   "cell_type": "code",
   "execution_count": 27,
   "id": "b3ea3f1b-7ed0-476b-aba3-9ab08b2dd702",
   "metadata": {},
   "outputs": [
    {
     "name": "stdout",
     "output_type": "stream",
     "text": [
      "Account Holder: John Doe\n",
      "Account Number: 1234567890\n",
      "Current Balance: $1,000.00\n",
      "Deposited $500.00 into account 1234567890.\n",
      "New balance: $1,500.00\n",
      "Withdrew $200.00 from account 1234567890.\n",
      "New balance: $1,300.00\n",
      "Insufficient funds for withdrawal.\n",
      "Invalid deposit amount. Please enter a positive value.\n"
     ]
    }
   ],
   "source": [
    "#Question:8\n",
    "class Bank:\n",
    "    def __init__(self, name, account_number, balance=0):\n",
    "        self.name = name\n",
    "        self.account_number = account_number\n",
    "        self.balance = balance\n",
    "    def display_account_info(self):\n",
    "        print(f\"Account Holder: {self.name}\")\n",
    "        print(f\"Account Number: {self.account_number}\")\n",
    "        print(f\"Current Balance: ${self.balance:,.2f}\")\n",
    "    def deposit(self, amount):\n",
    "        if amount > 0:\n",
    "            self.balance += amount\n",
    "            print(f\"Deposited ${amount:,.2f} into account {self.account_number}.\")\n",
    "            print(f\"New balance: ${self.balance:,.2f}\")\n",
    "        else:\n",
    "            print(\"Invalid deposit amount. Please enter a positive value.\")\n",
    "    def withdraw(self, amount):\n",
    "        if 0 < amount <= self.balance:\n",
    "            self.balance -= amount\n",
    "            print(f\"Withdrew ${amount:,.2f} from account {self.account_number}.\")\n",
    "            print(f\"New balance: ${self.balance:,.2f}\")\n",
    "        elif amount <= 0:\n",
    "            print(\"Invalid withdrawal amount. Please enter a positive value.\")\n",
    "        else:\n",
    "            print(\"Insufficient funds for withdrawal.\")\n",
    "account1 = Bank(\"John Doe\", \"1234567890\", 1000)\n",
    "account1.display_account_info()\n",
    "account1.deposit(500)\n",
    "account1.withdraw(200)\n",
    "account1.withdraw(2000)  \n",
    "account1.deposit(-100)   "
   ]
  },
  {
   "cell_type": "code",
   "execution_count": null,
   "id": "8e08e114-8ec1-4956-883e-9ae990c0b902",
   "metadata": {},
   "outputs": [],
   "source": []
  }
 ],
 "metadata": {
  "kernelspec": {
   "display_name": "Python 3 (ipykernel)",
   "language": "python",
   "name": "python3"
  },
  "language_info": {
   "codemirror_mode": {
    "name": "ipython",
    "version": 3
   },
   "file_extension": ".py",
   "mimetype": "text/x-python",
   "name": "python",
   "nbconvert_exporter": "python",
   "pygments_lexer": "ipython3",
   "version": "3.12.4"
  }
 },
 "nbformat": 4,
 "nbformat_minor": 5
}
